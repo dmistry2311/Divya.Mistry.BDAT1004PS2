{
 "cells": [
  {
   "cell_type": "markdown",
   "id": "168b0b95",
   "metadata": {},
   "source": [
    "# Question 1\n",
    "Consider the following Python module:\n",
    "a = 0\n",
    "def b():\n",
    " global a\n",
    " a = c(a)\n",
    "def c(a):\n",
    " return a + 2\n",
    "After importing the module into the interpreter, you execute:\n",
    "> b()\n",
    "> b()\n",
    "> b()\n",
    "> a\n",
    "?\n",
    "What value is displayed when the last expression (a) is evaluated? Explain your\n",
    "answer by indicating what happens in every executed statement."
   ]
  },
  {
   "cell_type": "code",
   "execution_count": 53,
   "id": "8378192b",
   "metadata": {},
   "outputs": [
    {
     "data": {
      "text/plain": [
       "6"
      ]
     },
     "execution_count": 53,
     "metadata": {},
     "output_type": "execute_result"
    }
   ],
   "source": [
    "a = 0\n",
    "def b():\n",
    " global a\n",
    " a = c(a)\n",
    "def c(a):\n",
    " return a + 2\n",
    "\n",
    "b()\n",
    "b()\n",
    "b()\n",
    "a\n"
   ]
  },
  {
   "cell_type": "markdown",
   "id": "6c425114",
   "metadata": {},
   "source": [
    "# Explanation:\n",
    "a is a global variable initialized with value 0. \n",
    "Thus when b() function is called, which further calls the c(a) function which update the value of a to 2. \n",
    "So, every time when b() is called, 2 is added to existing value of a. Hence at last after three functions call, a will be equal to 6.\n",
    "\n",
    "b()= c(a)= c(0)= 0+2 = 2\n",
    "\n",
    "Same way, b()= 2+2 =4\n",
    "\n",
    "b()=4+2\n",
    "\n",
    "finally,\n",
    "a=6"
   ]
  },
  {
   "cell_type": "markdown",
   "id": "667dbf55",
   "metadata": {},
   "source": [
    "# Question 2\n",
    "Function fileLength(), given to you, takes the name of a file as input and returns\n",
    "the length of the file:\n",
    "> fileLength('midterm.py')\n",
    "284\n",
    "> fileLength('idterm.py')\n",
    "Traceback (most recent call last):\n",
    "File \"<pyshell#34>\", line 1, in <module>\n",
    " fileLength('idterm.py')\n",
    "File \"/Users/me/midterm.py\", line 3, in fileLength\n",
    " infile = open(filename)\n",
    "FileNotFoundError: [Errno 2] No such file or directory:\n",
    "'idterm.py'\n",
    "As shown above, if the file cannot be found by the interpreter or if it cannot be read\n",
    "as a text file, an exception will be raised. Modify function fileLength() so that a\n",
    "friendly message is printed instead:\n",
    "> fileLength('midterm.py')\n",
    "358\n",
    "> fileLength('idterm.py')\n",
    "File idterm.py not found.\n"
   ]
  },
  {
   "cell_type": "code",
   "execution_count": 55,
   "id": "eee063b5",
   "metadata": {},
   "outputs": [
    {
     "name": "stdout",
     "output_type": "stream",
     "text": [
      "File bloodtype1.txt not found.\n"
     ]
    },
    {
     "data": {
      "text/plain": [
       "101"
      ]
     },
     "execution_count": 55,
     "metadata": {},
     "output_type": "execute_result"
    }
   ],
   "source": [
    "import os\n",
    "def fileLength(file_name):\n",
    "    try:\n",
    "        return os.path.getsize(file_name)\n",
    "    except:\n",
    "        print('File {} not found.'.format(file_name))  \n",
    "    \n",
    "fileLength('bloodtype1.txt')\n",
    "fileLength('bloodtype.txt')\n",
    "            \n",
    "            \n"
   ]
  },
  {
   "cell_type": "markdown",
   "id": "72d92bcc",
   "metadata": {},
   "source": [
    "# Question 3\n",
    "Write a class named Marsupial that can be used as shown below:\n",
    "> m = Marsupial()\n",
    "> m.put_in_pouch('doll')\n",
    "> m.put_in_pouch('firetruck')\n",
    "> m.put_in_pouch('kitten')\n",
    "> m.pouch_contents()\n",
    "['doll', 'firetruck', 'kitten']"
   ]
  },
  {
   "cell_type": "code",
   "execution_count": 56,
   "id": "447588d7",
   "metadata": {},
   "outputs": [
    {
     "name": "stdout",
     "output_type": "stream",
     "text": [
      "I am a Kangaroo located at coordinates (0, 0)\n"
     ]
    },
    {
     "data": {
      "text/plain": [
       "['doll', 'firetruck', 'kitten']"
      ]
     },
     "execution_count": 56,
     "metadata": {},
     "output_type": "execute_result"
    }
   ],
   "source": [
    "class Marsupial:\n",
    "    \"Marsupial class\"\n",
    "    \n",
    "    def __init__(self):\n",
    "        'instantiates an empty list'\n",
    "        self.q = []\n",
    "        \n",
    "    def put_in_pouch(self,a):\n",
    "        self.q.append(a)\n",
    "        return self.q\n",
    "\n",
    "    def pouch_contents(self):\n",
    "        return self.q\n",
    "    \n",
    "class Kangaroo(Marsupial):\n",
    "    'Class Kangaroo inherit the class Marsupial' \n",
    "    \n",
    "    def __init__(self, xcoord=0, ycoord=0):\n",
    "        'initialize coordinates to (xcoord, ycoord)'\n",
    "        Marsupial.__init__(self)\n",
    "        self.x = xcoord\n",
    "        self.y = ycoord\n",
    "        \n",
    "    def __repr__(self):\n",
    "        'canonical string representation Point(x, y)'\n",
    "        return 'I am a Kangaroo located at coordinates ({}, {})'.format(self.x, self.y)\n",
    "\n",
    "    def jump(self, dx, dy):\n",
    "        'change the x and y coordinates by dx and dy'\n",
    "        self.x += dx\n",
    "        self.y += dy\n",
    "        \n",
    "k = Kangaroo(0,0)\n",
    "print(k)\n",
    "k.put_in_pouch('doll')\n",
    "k.put_in_pouch('firetruck')\n",
    "k.put_in_pouch('kitten')\n",
    "k.pouch_contents()\n",
    "\n"
   ]
  },
  {
   "cell_type": "code",
   "execution_count": 57,
   "id": "286fce5e",
   "metadata": {},
   "outputs": [
    {
     "name": "stdout",
     "output_type": "stream",
     "text": [
      "I am a Kangaroo located at coordinates (3, 0)\n"
     ]
    }
   ],
   "source": [
    "k.jump(1,0)\n",
    "k.jump(1,0)\n",
    "k.jump(1,0)\n",
    "print(k)\n"
   ]
  },
  {
   "cell_type": "markdown",
   "id": "9a1b94b1",
   "metadata": {},
   "source": [
    "# Question 4\n",
    "Write function collatz() that takes a positive integer x as input and prints the \n",
    "Collatz sequence starting at x. A Collatz sequence is obtained by repeatedly applying \n",
    "this rule to the previous number x in the sequence:\n",
    "x = {\n",
    "𝑥/2 𝑖𝑓 𝑥 𝑖𝑠 𝑒𝑣𝑒𝑛\n",
    "3𝑥 + 1 𝑖𝑓 𝑥 𝑖𝑠 𝑜𝑑𝑑\n",
    "Your function should stop when the sequence gets to number 1. Your \n",
    "implementation must be recursive, without any loops.\n"
   ]
  },
  {
   "cell_type": "code",
   "execution_count": 5,
   "id": "87586237",
   "metadata": {},
   "outputs": [
    {
     "name": "stdout",
     "output_type": "stream",
     "text": [
      "10\n",
      "5\n",
      "16\n",
      "8\n",
      "4\n",
      "2\n",
      "1\n",
      "\n",
      "\n",
      "1\n"
     ]
    }
   ],
   "source": [
    "def collatz(x):\n",
    "    print(x)\n",
    "    \n",
    "    if(x==1):\n",
    "        pass\n",
    "    else:    \n",
    "        if(x%2==0):\n",
    "            collatz(x//2)\n",
    "        \n",
    "        else:\n",
    "            collatz(3*x+1) \n",
    "    \n",
    "    \n",
    "collatz(10)\n",
    "print(\"\\n\")\n",
    "collatz(1)"
   ]
  },
  {
   "cell_type": "markdown",
   "id": "780eb5ea",
   "metadata": {},
   "source": [
    "# Question 5\n",
    "Write a recursive method binary() that takes a non-negative \n",
    "integer n and prints the binary representation of integer n.\n",
    ">>> binary(0)\n",
    "0\n",
    ">>> binary(1)\n",
    "1\n",
    ">>> binary(3)\n",
    "11\n",
    ">>> binary(9)\n",
    "1001"
   ]
  },
  {
   "cell_type": "code",
   "execution_count": 2,
   "id": "3e23abbe",
   "metadata": {},
   "outputs": [
    {
     "data": {
      "text/plain": [
       "'1001'"
      ]
     },
     "execution_count": 2,
     "metadata": {},
     "output_type": "execute_result"
    }
   ],
   "source": [
    "\n",
    "def binary(n):\n",
    "    str = ''\n",
    "    if(n==1):\n",
    "        str = '1'\n",
    "    elif(n==0):\n",
    "        str = '0'\n",
    "    else:    \n",
    "        if(n%2==0):\n",
    "            str = '0'\n",
    "        else:\n",
    "            str = '1' \n",
    "        str =  binary(n//2) + str \n",
    "    return str\n",
    "        \n",
    "binary(9)\n"
   ]
  },
  {
   "cell_type": "markdown",
   "id": "2e7c5f29",
   "metadata": {},
   "source": [
    "# Question 6\n",
    "Question 6\n",
    "Implement a class named HeadingParser that can be used to parse an HTML document, and retrieve and print all the headings in the document. You should implement your class as a subclass of HTMLParser, defined in Standard Library module html.parser. When fed a string containing HTML code, your class should print the headings, one per line and in the order in which they appear in the \n",
    "document. Each heading should be indented as follows: an h1 heading should have  BDAT 1004 – Data Programming Page 5 of 7 F2021\n",
    "BDAT 1004 Computer Studies indentation 0, and h2 heading should have indentation 1, etc. Test your implementation using w3c.html."
   ]
  },
  {
   "cell_type": "code",
   "execution_count": 95,
   "id": "210f29d6",
   "metadata": {},
   "outputs": [
    {
     "name": "stdout",
     "output_type": "stream",
     "text": [
      "W3C Mission\n",
      "   Principles\n"
     ]
    }
   ],
   "source": [
    "from html.parser import HTMLParser\n",
    "\n",
    "class HeadingParser(HTMLParser):\n",
    "    hlevel = print_tags = recordh2 = ''\n",
    "    heading_tags = (\"h1\",\"h2\",\"h3\",\"h4\",\"h5\",\"h6\")\n",
    "    \n",
    "    def handle_starttag(self, tag, attrs): \n",
    "        if tag in self.heading_tags:\n",
    "            self.recordh2 = True\n",
    "            self.hlevel = tag[1]\n",
    "            self.print_tags = tag\n",
    "            \n",
    "    def handle_data(self,data):\n",
    "        if self.recordh2 == True:\n",
    "            print(\"   \" * (int(self.hlevel)-1) +data)\n",
    "            \n",
    "    def handle_endtag(self, tag):    \n",
    "        if tag in self.heading_tags:\n",
    "            self.recordh2 = False      \n",
    "            \n",
    "infile = open('w3c.html') \n",
    "content = infile.read() \n",
    "infile.close() \n",
    "parser = HeadingParser()\n",
    "parser.feed(content)"
   ]
  },
  {
   "cell_type": "markdown",
   "id": "febb0efb",
   "metadata": {},
   "source": [
    "# Question 7\n",
    "Implement recursive function webdir() that takes as input: a URL (as a string) and \n",
    "non-negative integers depth and indent. Your function should visit every web \n",
    "page reachable from the starting URL web page in depth clicks or less, and print \n",
    "each web page's URL. As shown below, indentation, specified by indent, should \n",
    "be used to indicate the depth of a URL.\n",
    ">\n",
    "webdir('http://reed.cs.depaul.edu/lperkovic/csc242/test1.html'\n",
    ", 2, 0)\n",
    "http://reed.cs.depaul.edu/lperkovic/csc242/test1.html\n",
    " http://reed.cs.depaul.edu/lperkovic/csc242/test2.html\n",
    " http://reed.cs.depaul.edu/lperkovic/csc242/test4.html\n",
    " http://reed.cs.depaul.edu/lperkovic/csc242/test3.html\n",
    " http://reed.cs.depaul.edu/lperkovic/csc242/test4.html\n"
   ]
  },
  {
   "cell_type": "code",
   "execution_count": 71,
   "id": "2506d62e",
   "metadata": {},
   "outputs": [
    {
     "name": "stdout",
     "output_type": "stream",
     "text": [
      "http://reed.cs.depaul.edu/lperkovic/test1.html\n",
      "   http://reed.cs.depaul.edu/lperkovic/test2.html\n",
      "      http://reed.cs.depaul.edu/lperkovic/test4.html\n",
      "   http://reed.cs.depaul.edu/lperkovic/test3.html\n",
      "      http://reed.cs.depaul.edu/lperkovic/test4.html\n"
     ]
    }
   ],
   "source": [
    "from urllib.request import urlopen\n",
    "from urllib.parse import urljoin\n",
    "from re import findall \n",
    "from html.parser import HTMLParser\n",
    "visited = set()\n",
    "max_depth =0\n",
    "depth_counter =-1\n",
    "global_indent = 0\n",
    "\n",
    "\n",
    "def webdir(url,depth, indent):\n",
    "    '''a recursive web crawler that calls analyze() on every visited web page'''\n",
    "    \n",
    "    max_depth = depth\n",
    "    global_indent = indent\n",
    "    \n",
    "    global visited     \n",
    "    visited.add(url)\n",
    "    global_indent +=1\n",
    "    \n",
    "    links = analyze(url,depth, indent)\n",
    "    \n",
    "    if(depth>0):\n",
    "        for link in links:\n",
    "            try:\n",
    "                webdir(link,depth -1,global_indent)       \n",
    "            except:\n",
    "                pass\n",
    "    \n",
    "\n",
    "def analyze(url,depth,indent):\n",
    "    print(\"   \" * indent+url)\n",
    "    content = urlopen(url).read().decode()\n",
    "    collector = Collector(url)\n",
    "    collector.feed(content)\n",
    "    urls = collector.getLinks()          \n",
    "\n",
    "    return urls \n",
    "\n",
    "class Collector(HTMLParser):\n",
    "    'collects hyperlink URLs into a list'\n",
    "\n",
    "    def __init__(self, url):\n",
    "        'initializes parser, the url, and a list'\n",
    "        HTMLParser.__init__(self)\n",
    "        self.url = url\n",
    "        self.links = []\n",
    "\n",
    "    \n",
    "    def handle_starttag(self, tag, attrs):\n",
    "        'collects hyperlink URLs in their absolute format'\n",
    "        if tag == 'a':\n",
    "            for attr in attrs:\n",
    "                if attr[0] == 'href':\n",
    "                    # construct absolute URL\n",
    "                    absolute = urljoin(self.url, attr[1])\n",
    "                    if absolute[:4] == 'http': \n",
    "                        self.links.append(absolute)\n",
    "                        \n",
    "    def getLinks(self):\n",
    "        'returns hyperlinks URLs in their absolute format'\n",
    "        return self.links\n",
    "\n",
    "\n",
    "\n",
    "webdir('http://reed.cs.depaul.edu/lperkovic/test1.html',2,0)"
   ]
  },
  {
   "cell_type": "markdown",
   "id": "7ecd472c",
   "metadata": {},
   "source": [
    "# Question 8\n",
    "Write SQL queries on the below database table that return:\n"
   ]
  },
  {
   "cell_type": "code",
   "execution_count": 75,
   "id": "63eecd9b",
   "metadata": {},
   "outputs": [
    {
     "name": "stdout",
     "output_type": "stream",
     "text": [
      "Table created\n"
     ]
    }
   ],
   "source": [
    "import sqlite3\n",
    "\n",
    "conn = sqlite3.connect('ProblemSet2.db')\n",
    "conn.execute('''CREATE TABLE IF NOT EXISTS city_details\n",
    "         (city nvarchar(50),\n",
    "         country nvarchar(50),\n",
    "         season nvarchar(50),\n",
    "         temperature real,\n",
    "         rainfall real);''')\n",
    "print (\"Table created\");"
   ]
  },
  {
   "cell_type": "code",
   "execution_count": 69,
   "id": "dad31c87",
   "metadata": {},
   "outputs": [],
   "source": [
    "conn.execute(\"INSERT INTO city_details (city, country, season, temperature, rainfall) \\\n",
    "      VALUES ('Cairo', 'Eqypt', 'Winter', '13.6', '16.5')\"); \n",
    "        \n",
    "conn.commit()"
   ]
  },
  {
   "cell_type": "code",
   "execution_count": null,
   "id": "f7c5dd5f",
   "metadata": {},
   "outputs": [],
   "source": [
    "import sqlite3\n",
    "\n",
    "conn = sqlite3.connect('ProblemSet2.db')\n",
    "conn.execute(\"INSERT INTO city_details (city, country, season, temperature, rainfall)  VALUES ('London', 'United Kingdom', 'Winter', '4.2', '207.7')\"); \n",
    "        \n",
    "conn.commit()"
   ]
  },
  {
   "cell_type": "code",
   "execution_count": 26,
   "id": "014e42e8",
   "metadata": {},
   "outputs": [],
   "source": [
    "import sqlite3\n",
    "\n",
    "conn = sqlite3.connect('ProblemSet2.db')\n",
    "conn.execute(\"INSERT INTO city_details (city, country, season, temperature, rainfall)  values ('London', 'United Kingdom', 'Spring', '8.3', '169.6')\"); \n",
    "             \n",
    "conn.execute(\"INSERT INTO city_details (city, country, season, temperature, rainfall)  values ('London', 'United Kingdom', 'Summer', '15.7', '157.0')\"); \n",
    "             \n",
    "conn.execute(\"INSERT INTO city_details (city, country, season, temperature, rainfall)  values ('London', 'United Kingdom', 'Fall', '10.4', '218.5')\"); \n",
    "             \n",
    "conn.commit()             "
   ]
  },
  {
   "cell_type": "code",
   "execution_count": 30,
   "id": "f8b12629",
   "metadata": {},
   "outputs": [],
   "source": [
    "import sqlite3\n",
    "\n",
    "conn = sqlite3.connect('ProblemSet2.db')\n",
    "conn.execute(\"INSERT INTO city_details (city, country, season,temperature, rainfall) values ('Cairo', 'Eqypt', 'Spring', '20.7', '6.5')\");\n",
    "conn.execute(\"INSERT INTO city_details (city, country, season,temperature, rainfall) values ('Cairo', 'Eqypt', 'Summer', '27.7', '0.1')\");\n",
    "conn.execute(\"INSERT INTO city_details (city, country, season,temperature, rainfall) values  ('Cairo', 'Eqypt', 'Fall', '22.2', '4.5')\");\n",
    "conn.execute(\"INSERT INTO city_details (city, country, season,temperature, rainfall) values  ('Mumbai', 'India', 'Winter', '24.8', '5.9')\");\n",
    "conn.execute(\"INSERT INTO city_details (city, country, season,temperature, rainfall) values  ('Mumbai', 'India', 'Spring', '28.4', '16.2')\");\n",
    "conn.execute(\"INSERT INTO city_details (city, country, season,temperature, rainfall) values  ('Mumbai', 'India', 'Summer', '27.9', '1549.4')\");\n",
    "conn.execute(\"INSERT INTO city_details (city, country, season,temperature, rainfall) values ('Mumbai', 'India', 'Fall', '27.6', '346.0')\");\n",
    "             \n",
    "conn.commit()   "
   ]
  },
  {
   "cell_type": "code",
   "execution_count": 70,
   "id": "0f1604af",
   "metadata": {
    "scrolled": true
   },
   "outputs": [
    {
     "name": "stdout",
     "output_type": "stream",
     "text": [
      "Opened database successfully\n",
      "('London', 'United Kingdom', 'Winter', 4.2, 207.7)\n",
      "('London', 'United Kingdom', 'Spring', 8.3, 169.6)\n",
      "('London', 'United Kingdom', 'Summer', 15.7, 157.0)\n",
      "('London', 'United Kingdom', 'Fall', 10.4, 218.5)\n",
      "('Cairo', 'Eqypt', 'Spring', 20.7, 6.5)\n",
      "('Cairo', 'Eqypt', 'Summer', 27.7, 0.1)\n",
      "('Cairo', 'Eqypt', 'Fall', 22.2, 4.5)\n",
      "('Mumbai', 'India', 'Winter', 24.8, 5.9)\n",
      "('Mumbai', 'India', 'Spring', 28.4, 16.2)\n",
      "('Mumbai', 'India', 'Summer', 27.9, 1549.4)\n",
      "('Mumbai', 'India', 'Fall', 27.6, 346.0)\n",
      "('Cairo', 'Eqypt', 'Winter', 13.6, 16.5)\n"
     ]
    }
   ],
   "source": [
    "import sqlite3\n",
    "\n",
    "conn = sqlite3.connect('ProblemSet2.db')\n",
    "print (\"Opened database successfully\");\n",
    "\n",
    "cursor = conn.execute(\"SELECT * from city_details\")\n",
    "myresult = cursor.fetchall()\n",
    "\n",
    "for x in myresult:\n",
    "  print(x)\n"
   ]
  },
  {
   "cell_type": "markdown",
   "id": "aec1f067",
   "metadata": {},
   "source": [
    "1. All the temperature data."
   ]
  },
  {
   "cell_type": "code",
   "execution_count": 74,
   "id": "6f830e8b",
   "metadata": {},
   "outputs": [
    {
     "name": "stdout",
     "output_type": "stream",
     "text": [
      "(4.2,)\n",
      "(8.3,)\n",
      "(15.7,)\n",
      "(10.4,)\n",
      "(20.7,)\n",
      "(27.7,)\n",
      "(22.2,)\n",
      "(24.8,)\n",
      "(28.4,)\n",
      "(27.9,)\n",
      "(27.6,)\n",
      "(13.6,)\n"
     ]
    }
   ],
   "source": [
    "cursor = conn.execute(\"SELECT temperature FROM city_details\")\n",
    "myresult = cursor.fetchall()\n",
    "\n",
    "for x in myresult:\n",
    "  print(x)"
   ]
  },
  {
   "cell_type": "markdown",
   "id": "ba3ae923",
   "metadata": {},
   "source": [
    "2. All the cities, but without repetition. "
   ]
  },
  {
   "cell_type": "code",
   "execution_count": 35,
   "id": "4265f9b8",
   "metadata": {},
   "outputs": [
    {
     "name": "stdout",
     "output_type": "stream",
     "text": [
      "('Cairo',)\n",
      "('London',)\n",
      "('Mumbai',)\n"
     ]
    }
   ],
   "source": [
    "cursor = conn.execute(\"SELECT DISTINCT city FROM city_details\")\n",
    "myresult = cursor.fetchall()\n",
    "\n",
    "for x in myresult:\n",
    "  print(x)\n"
   ]
  },
  {
   "cell_type": "markdown",
   "id": "46e57fb3",
   "metadata": {},
   "source": [
    "3. All the records for India."
   ]
  },
  {
   "cell_type": "code",
   "execution_count": 36,
   "id": "39abbbf8",
   "metadata": {},
   "outputs": [
    {
     "name": "stdout",
     "output_type": "stream",
     "text": [
      "('Mumbai', 'India', 'Winter', 24.8, 5.9)\n",
      "('Mumbai', 'India', 'Spring', 28.4, 16.2)\n",
      "('Mumbai', 'India', 'Summer', 27.9, 1549.4)\n",
      "('Mumbai', 'India', 'Fall', 27.6, 346.0)\n"
     ]
    }
   ],
   "source": [
    "cursor = conn.execute(\"SELECT  * FROM city_details where country = 'India'\")\n",
    "myresult = cursor.fetchall()\n",
    "\n",
    "for x in myresult:\n",
    "  print(x)\n"
   ]
  },
  {
   "cell_type": "markdown",
   "id": "e89e1ab0",
   "metadata": {},
   "source": [
    "4. All the Fall records."
   ]
  },
  {
   "cell_type": "code",
   "execution_count": 38,
   "id": "515cafe8",
   "metadata": {},
   "outputs": [
    {
     "name": "stdout",
     "output_type": "stream",
     "text": [
      "('London', 'United Kingdom', 'Fall', 10.4, 218.5)\n",
      "('Cairo', 'Eqypt', 'Fall', 22.2, 4.5)\n",
      "('Mumbai', 'India', 'Fall', 27.6, 346.0)\n"
     ]
    }
   ],
   "source": [
    "cursor = conn.execute(\"SELECT  * FROM city_details where season = 'Fall'\")\n",
    "myresult = cursor.fetchall()\n",
    "\n",
    "for x in myresult:\n",
    "  print(x)"
   ]
  },
  {
   "cell_type": "markdown",
   "id": "00d6c08d",
   "metadata": {},
   "source": [
    "5. The city, country, and season for which the average rainfall is between 200 and 400 millimeters."
   ]
  },
  {
   "cell_type": "code",
   "execution_count": 42,
   "id": "6602afe1",
   "metadata": {},
   "outputs": [
    {
     "name": "stdout",
     "output_type": "stream",
     "text": [
      "('London', 'United Kingdom', 'Fall')\n",
      "('London', 'United Kingdom', 'Winter')\n",
      "('Mumbai', 'India', 'Fall')\n"
     ]
    }
   ],
   "source": [
    "cursor = conn.execute(\"SELECT  city, country, season  FROM city_details group by city, country, season having AVG(rainfall) between 200 and 400\")\n",
    "myresult = cursor.fetchall()\n",
    "\n",
    "for x in myresult:\n",
    "  print(x)"
   ]
  },
  {
   "cell_type": "markdown",
   "id": "4f1c23d9",
   "metadata": {},
   "source": [
    "6. The city and country for which the average Fall temperature is above 20 degrees, in increasing temperature order."
   ]
  },
  {
   "cell_type": "code",
   "execution_count": 44,
   "id": "c47b8235",
   "metadata": {},
   "outputs": [
    {
     "name": "stdout",
     "output_type": "stream",
     "text": [
      "('Cairo', 'Eqypt')\n",
      "('Mumbai', 'India')\n"
     ]
    }
   ],
   "source": [
    "cursor = conn.execute(\"SELECT city, country FROM city_details where season = 'Fall' group by city, country having AVG(temperature) > 20 order by temperature\")\n",
    "myresult = cursor.fetchall()\n",
    "\n",
    "for x in myresult:\n",
    "  print(x)"
   ]
  },
  {
   "cell_type": "markdown",
   "id": "9e583d0e",
   "metadata": {},
   "source": [
    "7. The total annual rainfall for Cairo."
   ]
  },
  {
   "cell_type": "code",
   "execution_count": 48,
   "id": "4265c384",
   "metadata": {},
   "outputs": [
    {
     "name": "stdout",
     "output_type": "stream",
     "text": [
      "27.6\n"
     ]
    }
   ],
   "source": [
    "cursor = conn.execute(\"SELECT  sum(rainfall) as 'Annual Rainfall' FROM city_details where city = 'Cairo'\")\n",
    "myresult = cursor.fetchone()\n",
    "\n",
    "for x in myresult:\n",
    "  print(x)"
   ]
  },
  {
   "cell_type": "markdown",
   "id": "ba1ede7f",
   "metadata": {},
   "source": [
    "8. The total rainfall for each season."
   ]
  },
  {
   "cell_type": "code",
   "execution_count": 52,
   "id": "7d961164",
   "metadata": {},
   "outputs": [
    {
     "name": "stdout",
     "output_type": "stream",
     "text": [
      "('Fall', 569.0)\n",
      "('Spring', 192.3)\n",
      "('Summer', 1706.5)\n",
      "('Winter', 230.1)\n"
     ]
    }
   ],
   "source": [
    "cursor = conn.execute(\"SELECT  season ,round(sum(rainfall),2) as 'Annual Rainfall' FROM city_details group by season\")\n",
    "myresult = cursor.fetchall()\n",
    "\n",
    "for x in myresult:\n",
    "  print(x)"
   ]
  },
  {
   "cell_type": "code",
   "execution_count": null,
   "id": "1d019bdd",
   "metadata": {},
   "outputs": [],
   "source": [
    "conn.close()"
   ]
  },
  {
   "cell_type": "markdown",
   "id": "5318a1fc",
   "metadata": {},
   "source": [
    "# Question 9\n",
    "\n",
    "Suppose list words is defined as follows:\n",
    ">>> words = ['The', 'quick', 'brown', 'fox', 'jumps', 'over', \n",
    "'the', 'lazy', 'dog']\n",
    "Write list comprehension expressions that use list words and generate the following \n",
    "lists:\n"
   ]
  },
  {
   "cell_type": "code",
   "execution_count": 2,
   "id": "66143a23",
   "metadata": {},
   "outputs": [
    {
     "name": "stdout",
     "output_type": "stream",
     "text": [
      "['THE', 'QUICK', 'BROWN', 'FOX', 'JUMPS', 'OVER', 'THE', 'LAZY', 'DOG']\n"
     ]
    }
   ],
   "source": [
    "words = ['The', 'quick', 'brown', 'fox', 'jumps', 'over', 'the', 'lazy', 'dog']\n",
    "Processed_list = [x.upper() for x in words]\n",
    "\n",
    "print(Processed_list)"
   ]
  },
  {
   "cell_type": "code",
   "execution_count": 4,
   "id": "59d626e5",
   "metadata": {
    "scrolled": true
   },
   "outputs": [
    {
     "name": "stdout",
     "output_type": "stream",
     "text": [
      "['the', 'quick', 'brown', 'fox', 'jumps', 'over', 'the', 'lazy', 'dog']\n"
     ]
    }
   ],
   "source": [
    "words = ['The', 'quick', 'brown', 'fox', 'jumps', 'over', 'the', 'lazy', 'dog']\n",
    "Processed_list = [x.lower() for x in words]\n",
    "\n",
    "print(Processed_list)"
   ]
  },
  {
   "cell_type": "code",
   "execution_count": 7,
   "id": "c0b3ef96",
   "metadata": {},
   "outputs": [
    {
     "name": "stdout",
     "output_type": "stream",
     "text": [
      "[3, 5, 5, 3, 5, 4, 3, 4, 3]\n"
     ]
    }
   ],
   "source": [
    "words = ['The', 'quick', 'brown', 'fox', 'jumps', 'over', 'the', 'lazy', 'dog']\n",
    "Processed_list = [len(x) for x in words]\n",
    "\n",
    "print(Processed_list)"
   ]
  },
  {
   "cell_type": "code",
   "execution_count": 12,
   "id": "cad7f324",
   "metadata": {},
   "outputs": [
    {
     "name": "stdout",
     "output_type": "stream",
     "text": [
      "[['THE', 'the', 3], ['QUICK', 'quick', 5], ['BROWN', 'brown', 5], ['FOX', 'fox', 3], ['JUMPS', 'jumps', 5], ['OVER', 'over', 4], ['THE', 'the', 3], ['LAZY', 'lazy', 4], ['DOG', 'dog', 3]]\n"
     ]
    }
   ],
   "source": [
    "words = ['The', 'quick', 'brown', 'fox', 'jumps', 'over', 'the', 'lazy', 'dog']\n",
    "Processed_list = [ list((x.upper(), x.lower(), len(x)))  for x in words]\n",
    "\n",
    "print(Processed_list)"
   ]
  },
  {
   "cell_type": "code",
   "execution_count": 13,
   "id": "fa19ccd5",
   "metadata": {},
   "outputs": [
    {
     "name": "stdout",
     "output_type": "stream",
     "text": [
      "['quick', 'brown', 'jumps', 'over', 'lazy']\n"
     ]
    }
   ],
   "source": [
    "words = ['The', 'quick', 'brown', 'fox', 'jumps', 'over', 'the', 'lazy', 'dog']\n",
    "Processed_list = [x for x in words if len(x) >=4]\n",
    "\n",
    "print(Processed_list)"
   ]
  },
  {
   "cell_type": "code",
   "execution_count": null,
   "id": "afb599cd",
   "metadata": {},
   "outputs": [],
   "source": []
  }
 ],
 "metadata": {
  "kernelspec": {
   "display_name": "Python 3 (ipykernel)",
   "language": "python",
   "name": "python3"
  },
  "language_info": {
   "codemirror_mode": {
    "name": "ipython",
    "version": 3
   },
   "file_extension": ".py",
   "mimetype": "text/x-python",
   "name": "python",
   "nbconvert_exporter": "python",
   "pygments_lexer": "ipython3",
   "version": "3.9.7"
  }
 },
 "nbformat": 4,
 "nbformat_minor": 5
}
